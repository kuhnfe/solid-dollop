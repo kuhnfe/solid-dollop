{
 "cells": [
  {
   "cell_type": "markdown",
   "metadata": {},
   "source": [
    "# Whittaker Henderson, VL2"
   ]
  },
  {
   "cell_type": "code",
   "execution_count": 1,
   "metadata": {},
   "outputs": [],
   "source": [
    "import numpy as np\n",
    "from scipy.special import comb\n",
    "\n",
    "\"\"\" Original R-Code, Listing 4.1\n",
    "# Calculating the Whittaker - Henderson smoothing\n",
    "WH <- function (g, d, q, w = 1) {\n",
    "\n",
    "if (length(w) != length(q)) {\n",
    "    w <- rep(1, length(q))\n",
    "}\n",
    "\n",
    "w <- w / sum(w) # normalize weights\n",
    "s <- choose(d, 0:d) * (-1)^(0:d)\n",
    "k <- matrix(c(rep(c(s, rep(0, length(q) - d)), length(q) - d - 1), s),\n",
    "            ncol = length(q), byrow = TRUE)\n",
    "# Alternatively, use diff(,d) function\n",
    "\n",
    "return(solve(diag(w) + g * t(k) %*% k) %*% diag(w) %*% q)\n",
    "\n",
    "}\"\"\"\n",
    "def whittaker_henderson(g, d, q_tilde, w=None):\n",
    "    if w is None:\n",
    "        w = np.ones(len(q_tilde))\n",
    "    \n",
    "    w = w / np.sum(w)  # normalize weights\n",
    "    s = comb(d, np.arange(d + 1)) * (-1) ** np.arange(d + 1)\n",
    "    #print(len(s), len(q)-d)\n",
    "   \n",
    "    # Calculate k\n",
    "    q_length = len(q_tilde)\n",
    "    k = np.zeros((q_length, q_length))\n",
    "\n",
    "    for i in range(q_length):\n",
    "        for j in range(i, min(i + d + 1, q_length)):\n",
    "            k[i, j] = (-1) ** d * (-1) ** (j - i) * comb(d, j - i)\n",
    "    \n",
    "    #linalg.solve(A,b) solves equation of the form Ax = b for x\n",
    "    return np.linalg.solve(np.diag(w) + g * k.T @ k, np.diag(w) @ q_tilde)"
   ]
  },
  {
   "cell_type": "code",
   "execution_count": 2,
   "metadata": {},
   "outputs": [],
   "source": [
    "q_test = np.random.rand(100)\n",
    "q_test /= q_test.sum()"
   ]
  },
  {
   "cell_type": "code",
   "execution_count": 30,
   "metadata": {},
   "outputs": [
    {
     "data": {
      "text/plain": [
       "100"
      ]
     },
     "execution_count": 30,
     "metadata": {},
     "output_type": "execute_result"
    }
   ],
   "source": [
    "len(whittaker_henderson(2,3,q_test))"
   ]
  },
  {
   "cell_type": "code",
   "execution_count": null,
   "metadata": {},
   "outputs": [],
   "source": []
  }
 ],
 "metadata": {
  "kernelspec": {
   "display_name": "Python 3",
   "language": "python",
   "name": "python3"
  },
  "language_info": {
   "codemirror_mode": {
    "name": "ipython",
    "version": 3
   },
   "file_extension": ".py",
   "mimetype": "text/x-python",
   "name": "python",
   "nbconvert_exporter": "python",
   "pygments_lexer": "ipython3",
   "version": "3.12.2"
  }
 },
 "nbformat": 4,
 "nbformat_minor": 2
}
