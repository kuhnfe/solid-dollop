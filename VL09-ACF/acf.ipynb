{
 "cells": [
  {
   "cell_type": "markdown",
   "metadata": {},
   "source": [
    "# VL09: Augmented Factor Model"
   ]
  },
  {
   "cell_type": "code",
   "execution_count": null,
   "metadata": {},
   "outputs": [],
   "source": [
    "import numpy as np\n",
    "\n",
    "\"\"\"R original code, Listing 6.2\n",
    "# F = matrix of centered logarithm of mortality\n",
    "# rates averaged over population\n",
    "svd_res = svd(F, 1, 1)\n",
    "u1 = svd_res.u\n",
    "v1 = svd_res.v\n",
    "s1 = svd_res.d[1]\n",
    "b_fit = u1\n",
    "k_fit = s1 * v1\n",
    "\n",
    "# M.i = matrix of centered logarithm of mortality rates\n",
    "# of population i\n",
    "a_fit_i = rowMeans(M_i, na.rm=False, dims=1)\n",
    "G_i = M_i - a_fit_i - b_fit @ t(k_fit)\n",
    "svd_res_i = svd(G_i, 1, 1)\n",
    "u1_i = svd_res_i.u\n",
    "v1_i = svd_res_i.v\n",
    "s1_i = svd_res_i.d[1]\n",
    "b_fit_i = u1_i\n",
    "k_fit_i = s1_i * v1_i\n",
    "\n",
    "# fitted values\n",
    "pred = a_fit_i + b_fit @ t(k_fit) + b_fit_i @ t(k_fit_i)\n",
    "\"\"\"\n",
    "# Assuming F and M_i are numpy arrays\n",
    "# Perform SVD on F\n",
    "u1, s1, v1 = np.linalg.svd(F, full_matrices=False)\n",
    "b_fit = u1[:, 0]\n",
    "k_fit = s1[0] * v1[0, :]\n",
    "\n",
    "# Calculate a_fit_i\n",
    "a_fit_i = np.mean(M_i, axis=1, keepdims=True)\n",
    "\n",
    "# Calculate G_i\n",
    "G_i = M_i - a_fit_i - np.outer(b_fit, k_fit)\n",
    "\n",
    "# Perform SVD on G_i\n",
    "u1_i, s1_i, v1_i = np.linalg.svd(G_i, full_matrices=False)\n",
    "b_fit_i = u1_i[:, 0]\n",
    "k_fit_i = s1_i[0] * v1_i[0, :]\n",
    "\n",
    "# Calculate fitted values\n",
    "pred = a_fit_i + np.outer(b_fit, k_fit) + np.outer(b_fit_i, k_fit_i)\n"
   ]
  }
 ],
 "metadata": {
  "language_info": {
   "name": "python"
  }
 },
 "nbformat": 4,
 "nbformat_minor": 2
}
